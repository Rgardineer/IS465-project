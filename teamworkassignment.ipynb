{
  "nbformat": 4,
  "nbformat_minor": 0,
  "metadata": {
    "colab": {
      "name": "teamworkassignment.ipynb",
      "provenance": [],
      "collapsed_sections": []
    },
    "kernelspec": {
      "name": "python3",
      "display_name": "Python 3"
    }
  },
  "cells": [
    {
      "cell_type": "code",
      "metadata": {
        "colab_type": "code",
        "outputId": "64a323cf-d451-4c98-c8b2-55a8cdbacd67",
        "id": "-gGi35Mkkz9l",
        "colab": {
          "base_uri": "https://localhost:8080/",
          "height": 34
        }
      },
      "source": [
        "import difflib\n",
        "\n",
        "# created 3 variables to store our words\n",
        "text_1 = \"lion ate the farmers goats\"\n",
        "text_2 = \"lions are the king of the jungle\"\n",
        "text_3 = \"baby-lion\"\n",
        "\n",
        "#created an object called sequence\n",
        "#SequenceMatcher is a function inside of difflib\n",
        "#isJunk ask if anything needs to be ignored\n",
        "sequence  = difflib.SequenceMatcher(isjunk=None, a = text_1, b = text_2)   \n",
        "difference = sequence.ratio()*100\n",
        "difference = round(difference,1)\n",
        "print (difference,\"% match\") \n",
        "\n"
      ],
      "execution_count": 2,
      "outputs": [
        {
          "output_type": "stream",
          "text": [
            "55.2 % match\n"
          ],
          "name": "stdout"
        }
      ]
    },
    {
      "cell_type": "code",
      "metadata": {
        "id": "7DJUnX6KjU3Z",
        "colab_type": "code",
        "outputId": "e897225d-945e-447a-8266-297ce9e2dfde",
        "colab": {
          "base_uri": "https://localhost:8080/",
          "height": 35
        }
      },
      "source": [
        "import difflib\n",
        "\n",
        "text_1 = \"lion\"\n",
        "text_2 = \"lioness\"\n",
        "text_3 = \"baby-lion\"\n",
        "\n",
        "sequence  = difflib.SequenceMatcher(isjunk=None, a = text_1, b = text_3)\n",
        "difference = sequence.ratio()*100\n",
        "difference = round(difference,1)\n",
        "print (difference,\"% match\") \n"
      ],
      "execution_count": 0,
      "outputs": [
        {
          "output_type": "stream",
          "text": [
            "61.5 % match\n"
          ],
          "name": "stdout"
        }
      ]
    },
    {
      "cell_type": "code",
      "metadata": {
        "id": "Pqqx_EYCjhO1",
        "colab_type": "code",
        "outputId": "868eb871-f029-4f24-f935-c8a058fe9195",
        "colab": {
          "base_uri": "https://localhost:8080/",
          "height": 34
        }
      },
      "source": [
        "import difflib\n",
        "\n",
        "text_1 = \"lion\"\n",
        "text_2 = \"lioness\"\n",
        "text_3 = \"baby-lion\"\n",
        "\n",
        "sequence  = difflib.SequenceMatcher(isjunk=None, a = text_2, b = text_3)\n",
        "difference = sequence.ratio()*100\n",
        "difference = round(difference,1)\n",
        "print (difference,\"% match\") \n"
      ],
      "execution_count": 0,
      "outputs": [
        {
          "output_type": "stream",
          "text": [
            "0.0 % match\n"
          ],
          "name": "stdout"
        }
      ]
    }
  ]
}